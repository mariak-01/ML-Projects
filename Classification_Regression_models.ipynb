{
  "nbformat": 4,
  "nbformat_minor": 0,
  "metadata": {
    "colab": {
      "provenance": [],
      "collapsed_sections": [
        "Q2G2ASmAu1fa"
      ]
    },
    "kernelspec": {
      "name": "python3",
      "display_name": "Python 3"
    },
    "language_info": {
      "name": "python"
    }
  },
  "cells": [
    {
      "cell_type": "markdown",
      "source": [
        "# **Classification Models**"
      ],
      "metadata": {
        "id": "Q2G2ASmAu1fa"
      }
    },
    {
      "cell_type": "code",
      "execution_count": null,
      "metadata": {
        "id": "wmx37ocHnNRO"
      },
      "outputs": [],
      "source": [
        "# Import libraries\n",
        "from sklearn.datasets import load_iris\n",
        "from sklearn.model_selection import train_test_split\n",
        "from sklearn.metrics import accuracy_score\n",
        "\n",
        "# Models\n",
        "from sklearn.linear_model import LogisticRegression\n",
        "from sklearn.tree import DecisionTreeClassifier\n",
        "from sklearn.ensemble import RandomForestClassifier\n",
        "from sklearn.neighbors import KNeighborsClassifier\n",
        "from sklearn.svm import SVC\n",
        "from sklearn.naive_bayes import GaussianNB"
      ]
    },
    {
      "cell_type": "code",
      "source": [
        "# Load the data\n",
        "data = load_iris()\n",
        "X = data.data\n",
        "y = data.target"
      ],
      "metadata": {
        "id": "g29YH76LoYcD"
      },
      "execution_count": null,
      "outputs": []
    },
    {
      "cell_type": "code",
      "source": [
        "# Split the data\n",
        "X_train, X_test, y_train, y_test = train_test_split(X, y, test_size=0.2, random_state=42)"
      ],
      "metadata": {
        "id": "PbsvV8P8rgQv"
      },
      "execution_count": null,
      "outputs": []
    },
    {
      "cell_type": "code",
      "source": [
        "# models\n",
        "models = {\n",
        "    'logistic regression' : LogisticRegression(),\n",
        "    'decision tree' : DecisionTreeClassifier(),\n",
        "    'random forest' : RandomForestClassifier(),\n",
        "    'svm' : SVC(),\n",
        "    'knn' : KNeighborsClassifier(),\n",
        "    'naive bayes' : GaussianNB()\n",
        "}"
      ],
      "metadata": {
        "id": "kwVswjz8rpYR"
      },
      "execution_count": null,
      "outputs": []
    },
    {
      "cell_type": "code",
      "source": [
        "# Training & Evaluation\n",
        "for name, model in models.items():\n",
        "  model.fit(X_train, y_train)\n",
        "\n",
        "  y_pred = model.predict(X_test)\n",
        "  accuracy = accuracy_score(y_pred, y_test)\n",
        "  print(f'{name} : {accuracy}')"
      ],
      "metadata": {
        "colab": {
          "base_uri": "https://localhost:8080/"
        },
        "id": "6q2K6E6DsiTz",
        "outputId": "e2966eda-7c2b-43ec-ced3-46c5c7029576"
      },
      "execution_count": null,
      "outputs": [
        {
          "output_type": "stream",
          "name": "stdout",
          "text": [
            "logistic regression : 1.0\n",
            "decision tree : 1.0\n",
            "random forest : 1.0\n",
            "svm : 1.0\n",
            "knn : 1.0\n",
            "naive bayes : 1.0\n"
          ]
        }
      ]
    },
    {
      "cell_type": "markdown",
      "source": [
        "# **Regression Models**"
      ],
      "metadata": {
        "id": "brBA29s4u-xV"
      }
    },
    {
      "cell_type": "code",
      "source": [
        "# Import libraries\n",
        "from sklearn.datasets import fetch_california_housing\n",
        "from sklearn.metrics import mean_squared_error, r2_score\n",
        "\n",
        "# Import Models\n",
        "from sklearn.linear_model import LinearRegression\n",
        "from sklearn.tree import DecisionTreeRegressor\n",
        "from sklearn.ensemble import RandomForestRegressor\n",
        "from sklearn.svm import SVR\n",
        "from sklearn.neighbors import KNeighborsRegressor"
      ],
      "metadata": {
        "id": "d5TaCTqdvCg2"
      },
      "execution_count": null,
      "outputs": []
    },
    {
      "cell_type": "code",
      "source": [
        "# Load dataset\n",
        "datar = fetch_california_housing()\n",
        "X = datar.data\n",
        "y = datar.target"
      ],
      "metadata": {
        "id": "fe58248rxFVP"
      },
      "execution_count": null,
      "outputs": []
    },
    {
      "cell_type": "code",
      "source": [
        "# Split\n",
        "X_train, X_test, y_train, y_test = train_test_split(X, y, test_size=0.2, random_state=42)"
      ],
      "metadata": {
        "id": "MkgEKiWyxUVA"
      },
      "execution_count": null,
      "outputs": []
    },
    {
      "cell_type": "code",
      "source": [
        "# Models\n",
        "models = {\n",
        "    'linear':LinearRegression(),\n",
        "    'tree':DecisionTreeRegressor(),\n",
        "    'rforest':RandomForestRegressor(),\n",
        "    'svm':SVR(),\n",
        "    'knn':KNeighborsRegressor()\n",
        "}"
      ],
      "metadata": {
        "id": "vtvPwJGwwQpx"
      },
      "execution_count": null,
      "outputs": []
    },
    {
      "cell_type": "code",
      "source": [
        "# Train & Evaluate\n",
        "for name, model in models.items():\n",
        "  model.fit(X_train, y_train)\n",
        "\n",
        "  y_pred = model.predict(X_test)\n",
        "  mse = mean_squared_error(y_pred, y_test)\n",
        "  r2 = r2_score(y_pred, y_test)\n",
        "  print(f'{name} mse: {mse:.2f}')\n",
        "  print(f'{name} r2: {r2:.2f}')\n",
        "  print('####')"
      ],
      "metadata": {
        "colab": {
          "base_uri": "https://localhost:8080/"
        },
        "id": "8O8th5U6w0AX",
        "outputId": "c69b69c9-9680-4065-8c21-f7fabfcfe38c"
      },
      "execution_count": null,
      "outputs": [
        {
          "output_type": "stream",
          "name": "stdout",
          "text": [
            "linear mse: 0.56\n",
            "linear r2: 0.34\n",
            "####\n",
            "tree mse: 0.48\n",
            "tree r2: 0.64\n",
            "####\n",
            "rforest mse: 0.25\n",
            "rforest r2: 0.75\n",
            "####\n",
            "svm mse: 1.33\n",
            "svm r2: -246.53\n",
            "####\n",
            "knn mse: 1.12\n",
            "knn r2: -2.49\n",
            "####\n"
          ]
        }
      ]
    }
  ]
}